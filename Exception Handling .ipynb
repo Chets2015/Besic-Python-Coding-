{
 "cells": [
  {
   "cell_type": "markdown",
   "metadata": {},
   "source": [
    "# Exception Handling"
   ]
  },
  {
   "cell_type": "code",
   "execution_count": 7,
   "metadata": {},
   "outputs": [
    {
     "name": "stdout",
     "output_type": "stream",
     "text": [
      "name 'b' is not defined\n"
     ]
    }
   ],
   "source": [
    "try:\n",
    "    #its code block where an exception can occured\n",
    "    a=b\n",
    "except Exception as ex:\n",
    "        #print(\"Some Problem may have occured\")\n",
    "        print(ex)\n",
    "        "
   ]
  },
  {
   "cell_type": "code",
   "execution_count": 17,
   "metadata": {},
   "outputs": [
    {
     "name": "stdout",
     "output_type": "stream",
     "text": [
      "enter the 1st no.2\n",
      "enter the 2nd no0\n",
      "Please provide no. greater than zero\n",
      "the execution is Done\n"
     ]
    }
   ],
   "source": [
    "try:\n",
    "    a=int(input(\"enter the 1st no.\"))\n",
    "    b=int(input(\"enter the 2nd no\"))\n",
    "    c=a/b\n",
    "    d=a*b\n",
    "    e=a+b\n",
    "    print(c)\n",
    "    print(d)\n",
    "    print(e)\n",
    "except NameError:\n",
    "    print(\"the user have not defined the variable\")\n",
    "except ZeroDivisionError:\n",
    "    print(\"Please provide no. greater than zero\")\n",
    "except TypeError:\n",
    "    print(\"Try to make datatypes similar\")\n",
    "except Exception as ex:\n",
    "    print(ex)\n",
    "    \n",
    "else:\n",
    "    print(c)\n",
    "    #print(d)\n",
    "    #print(e)\n",
    "finally:\n",
    "    print(\"the execution is Done\")"
   ]
  },
  {
   "cell_type": "markdown",
   "metadata": {},
   "source": [
    "# Custom Exception"
   ]
  },
  {
   "cell_type": "code",
   "execution_count": 23,
   "metadata": {},
   "outputs": [],
   "source": [
    "class Error(Exception):\n",
    "    pass\n",
    "class dobException(Error):\n",
    "    pass\n",
    "class customgeneric(Error):\n",
    "    pass"
   ]
  },
  {
   "cell_type": "code",
   "execution_count": 31,
   "metadata": {},
   "outputs": [
    {
     "name": "stdout",
     "output_type": "stream",
     "text": [
      "Enter the year of birth1991\n",
      "The age is valid , You can apply for exam.\n"
     ]
    }
   ],
   "source": [
    "year=int(input(\"Enter the year of birth\"))\n",
    "age=2021-year\n",
    "try:\n",
    "    if age<=30 & age>20:\n",
    "        print(\"The age is valid , You can apply for exam.\")\n",
    "    else:\n",
    "        raise dobException\n",
    "except dobException:\n",
    "    print(\"The age is not within range , You cant Apply for exam\")\n",
    "    "
   ]
  },
  {
   "cell_type": "markdown",
   "metadata": {},
   "source": [
    "# Assert Function\n",
    "### Python provides the assert statement to check ,if a given logical expression is true or false.  Pgrogram execution proceds only if the expression is true and raises the assertionerror when it is false. following code shows the usage of the assrt statements \n"
   ]
  },
  {
   "cell_type": "code",
   "execution_count": 1,
   "metadata": {},
   "outputs": [
    {
     "ename": "AssertionError",
     "evalue": "",
     "output_type": "error",
     "traceback": [
      "\u001b[0;31m---------------------------------------------------------------------------\u001b[0m",
      "\u001b[0;31mAssertionError\u001b[0m                            Traceback (most recent call last)",
      "\u001b[0;32m<ipython-input-1-49b7f0e774e1>\u001b[0m in \u001b[0;36m<module>\u001b[0;34m\u001b[0m\n\u001b[1;32m      1\u001b[0m \u001b[0mnum\u001b[0m\u001b[0;34m=\u001b[0m\u001b[0;36m10\u001b[0m\u001b[0;34m\u001b[0m\u001b[0;34m\u001b[0m\u001b[0m\n\u001b[0;32m----> 2\u001b[0;31m \u001b[0;32massert\u001b[0m \u001b[0mnum\u001b[0m\u001b[0;34m>\u001b[0m\u001b[0;36m10\u001b[0m\u001b[0;34m\u001b[0m\u001b[0;34m\u001b[0m\u001b[0m\n\u001b[0m",
      "\u001b[0;31mAssertionError\u001b[0m: "
     ]
    }
   ],
   "source": [
    "num=10\n",
    "assert num>10"
   ]
  },
  {
   "cell_type": "code",
   "execution_count": 3,
   "metadata": {},
   "outputs": [
    {
     "name": "stdout",
     "output_type": "stream",
     "text": [
      "enter the number52\n",
      "The number is even\n"
     ]
    }
   ],
   "source": [
    "try:\n",
    "    num=int(input(\"enter the number\"))\n",
    "    assert num%2==0\n",
    "    print(\"The number is even\")\n",
    "except AssertionError:\n",
    "    print(\"Please Enter the even number\")"
   ]
  },
  {
   "cell_type": "code",
   "execution_count": 4,
   "metadata": {},
   "outputs": [
    {
     "name": "stdout",
     "output_type": "stream",
     "text": [
      "enter the number21\n",
      "Please Enter the even number\n"
     ]
    }
   ],
   "source": [
    "try:\n",
    "    num=int(input(\"enter the number\"))\n",
    "    assert num%2==0\n",
    "    print(\"The number is even\")\n",
    "except AssertionError:\n",
    "    print(\"Please Enter the even number\")"
   ]
  }
 ],
 "metadata": {
  "kernelspec": {
   "display_name": "Python 3",
   "language": "python",
   "name": "python3"
  },
  "language_info": {
   "codemirror_mode": {
    "name": "ipython",
    "version": 3
   },
   "file_extension": ".py",
   "mimetype": "text/x-python",
   "name": "python",
   "nbconvert_exporter": "python",
   "pygments_lexer": "ipython3",
   "version": "3.7.3"
  }
 },
 "nbformat": 4,
 "nbformat_minor": 2
}
