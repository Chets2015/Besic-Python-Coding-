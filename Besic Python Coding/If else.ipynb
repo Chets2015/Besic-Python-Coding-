{
 "cells": [
  {
   "cell_type": "markdown",
   "metadata": {},
   "source": [
    "# If statements"
   ]
  },
  {
   "cell_type": "code",
   "execution_count": 2,
   "metadata": {},
   "outputs": [
    {
     "name": "stdout",
     "output_type": "stream",
     "text": [
      "Enter your age17\n",
      "Sorry, you are not eligible for voting\n"
     ]
    }
   ],
   "source": [
    "age = int(input(\"Enter your age\"))\n",
    "if age>=18:\n",
    "    print(\"your are eligible for voting\")\n",
    "else:\n",
    "    print(\"Sorry, you are not eligible for voting\")"
   ]
  },
  {
   "cell_type": "code",
   "execution_count": 6,
   "metadata": {},
   "outputs": [
    {
     "name": "stdout",
     "output_type": "stream",
     "text": [
      "condition is true\n"
     ]
    }
   ],
   "source": [
    "# two conditions \n",
    "name='ram'\n",
    "age= 30\n",
    "if name=='ram' and age==30:\n",
    "    print(\"condition is true\")\n",
    "else:\n",
    "    print(\"condition is false\")\n"
   ]
  },
  {
   "cell_type": "code",
   "execution_count": 9,
   "metadata": {},
   "outputs": [
    {
     "name": "stdout",
     "output_type": "stream",
     "text": [
      "condition is false\n"
     ]
    }
   ],
   "source": [
    "name='ram'\n",
    "age= 30\n",
    "if name=='ravan' or age==32:\n",
    "    print(\"condition is true\")\n",
    "else:\n",
    "    print(\"condition is false\")"
   ]
  },
  {
   "cell_type": "code",
   "execution_count": null,
   "metadata": {},
   "outputs": [],
   "source": [
    "#make a variable , like wining no. and assign value \n",
    "#Ask the user to guss no. \n",
    "# if it guss correctly then print you win\n",
    "#if dnt then print you lose \n",
    "#if enter no. is  lower print no. to loo\n",
    "#if enter no. is higher print no. is to high "
   ]
  },
  {
   "cell_type": "code",
   "execution_count": null,
   "metadata": {},
   "outputs": [],
   "source": [
    "#tickit pricess\n",
    "#1. 1 to 5 (free)\n",
    "#2. 6 to 10(150)\n",
    "#3. 11 to 60(250)\n",
    "#4. above 60(200)"
   ]
  },
  {
   "cell_type": "code",
   "execution_count": 23,
   "metadata": {},
   "outputs": [
    {
     "name": "stdout",
     "output_type": "stream",
     "text": [
      "Plase Enter your age0\n",
      "Entry wil prohibited\n"
     ]
    }
   ],
   "source": [
    "# Elseif \n",
    "age=int(input(\"Plase Enter your age\"))\n",
    "if age>=0:\n",
    "    print(\"Entry wil prohibited\")\n",
    "elif 0 <age <=5:\n",
    "    print(\"Entry will free\")\n",
    "elif 5 < age <=10:\n",
    "    print(\"Entry price :150\")\n",
    "elif 10 < age <=60:\n",
    "    print(\"Entery price :250\")\n",
    "else:\n",
    "    print(\"Entry Price :200\")"
   ]
  },
  {
   "cell_type": "markdown",
   "metadata": {},
   "source": [
    "# In Keywords "
   ]
  },
  {
   "cell_type": "code",
   "execution_count": 5,
   "metadata": {},
   "outputs": [
    {
     "name": "stdout",
     "output_type": "stream",
     "text": [
      "m is present in name\n"
     ]
    }
   ],
   "source": [
    "name=\"Amravati\"\n",
    "\n",
    "# if with in\n",
    "if 'm' in name:\n",
    "    print(\"m is present in name\")\n",
    "else:\n",
    "    print(\"m is not present\")\n",
    "    "
   ]
  },
  {
   "cell_type": "markdown",
   "metadata": {},
   "source": [
    "# Looping Staements"
   ]
  },
  {
   "cell_type": "code",
   "execution_count": 7,
   "metadata": {},
   "outputs": [
    {
     "name": "stdout",
     "output_type": "stream",
     "text": [
      "Hello Gcoea\n",
      "Hello Gcoea\n",
      "Hello Gcoea\n",
      "Hello Gcoea\n",
      "Hello Gcoea\n"
     ]
    }
   ],
   "source": [
    "#while loop\n",
    "#print(\"Hello gcoea\") # 10times \n",
    "i=1\n",
    "while i<=5:\n",
    "    print(\"Hello Gcoea\")\n",
    "    i=i+1\n"
   ]
  },
  {
   "cell_type": "code",
   "execution_count": 11,
   "metadata": {},
   "outputs": [
    {
     "name": "stdout",
     "output_type": "stream",
     "text": [
      "55\n"
     ]
    }
   ],
   "source": [
    "# sum of 1 to 10 numbers \n",
    "sum=0\n",
    "i=1\n",
    "while i<=10:\n",
    "    sum=sum+i \n",
    "    i=i+1\n",
    "print(sum)"
   ]
  },
  {
   "cell_type": "code",
   "execution_count": null,
   "metadata": {},
   "outputs": [],
   "source": [
    "# sum of n natural numbers \n",
    "# ask the user for enter number (n)\n",
    "# print total from  1 to n "
   ]
  },
  {
   "cell_type": "code",
   "execution_count": 14,
   "metadata": {},
   "outputs": [
    {
     "name": "stdout",
     "output_type": "stream",
     "text": [
      "Enter the number1234\n",
      "10\n"
     ]
    }
   ],
   "source": [
    "num= input(\"Enter the number\")\n",
    "total=0\n",
    "i=0\n",
    "while i<len(num):\n",
    "    total = total+int(num[i])\n",
    "    i=i+1\n",
    "print(total) "
   ]
  },
  {
   "cell_type": "markdown",
   "metadata": {},
   "source": [
    "# For Loop"
   ]
  },
  {
   "cell_type": "code",
   "execution_count": 16,
   "metadata": {},
   "outputs": [
    {
     "name": "stdout",
     "output_type": "stream",
     "text": [
      "welcome in Amravati \n",
      "welcome in Amravati \n",
      "welcome in Amravati \n",
      "welcome in Amravati \n",
      "welcome in Amravati \n"
     ]
    }
   ],
   "source": [
    "# using for loop with range \n",
    "for i in range(5): # 0 to 9\n",
    "    print(\"welcome in Amravati \")"
   ]
  },
  {
   "cell_type": "code",
   "execution_count": 22,
   "metadata": {},
   "outputs": [
    {
     "name": "stdout",
     "output_type": "stream",
     "text": [
      "heloo world\n",
      "heloo world\n",
      "heloo world\n"
     ]
    }
   ],
   "source": [
    "for i in range (2,5): \n",
    "    print(\"heloo world\")"
   ]
  },
  {
   "cell_type": "code",
   "execution_count": 26,
   "metadata": {},
   "outputs": [
    {
     "name": "stdout",
     "output_type": "stream",
     "text": [
      "Enter the number111\n",
      "6216\n"
     ]
    }
   ],
   "source": [
    "#sum of 1 to n\n",
    "n= int(input(\"Enter the number\"))\n",
    "sum=0\n",
    "for i in range (1, n+1):\n",
    "    sum+=i\n",
    "print(sum)"
   ]
  },
  {
   "cell_type": "code",
   "execution_count": null,
   "metadata": {},
   "outputs": [],
   "source": [
    "#Excersisee#\n",
    "# take any number input from user 123456\n",
    "#calcualte sum of all digits"
   ]
  },
  {
   "cell_type": "markdown",
   "metadata": {},
   "source": [
    "# Break & continue"
   ]
  },
  {
   "cell_type": "code",
   "execution_count": 29,
   "metadata": {},
   "outputs": [
    {
     "name": "stdout",
     "output_type": "stream",
     "text": [
      "1\n",
      "2\n"
     ]
    }
   ],
   "source": [
    "# 1 to 10 to break\n",
    "for i in range (1,11):\n",
    "    if i==3:\n",
    "        break\n",
    "    print(i)"
   ]
  },
  {
   "cell_type": "code",
   "execution_count": 31,
   "metadata": {},
   "outputs": [
    {
     "name": "stdout",
     "output_type": "stream",
     "text": [
      "1\n",
      "2\n",
      "3\n",
      "4\n",
      "6\n",
      "7\n",
      "8\n"
     ]
    }
   ],
   "source": [
    "# continue\n",
    "for i in range(1,9):\n",
    "    if i==5:\n",
    "        continue\n",
    "    print(i)"
   ]
  },
  {
   "cell_type": "code",
   "execution_count": 36,
   "metadata": {},
   "outputs": [
    {
     "name": "stdout",
     "output_type": "stream",
     "text": [
      "enter your name Amravati Akola\n",
      "A:2\n",
      "m:1\n",
      "r:1\n",
      "a:3\n",
      "v:1\n",
      "t:1\n",
      "i:1\n",
      " :1\n",
      "k:1\n",
      "o:1\n",
      "l:1\n"
     ]
    }
   ],
   "source": [
    "# findout the counting of alphabates from name \n",
    "name = input(\"enter your name \")\n",
    "temp =\"\"\n",
    "for i in range (len(name)):\n",
    "    if name[i] not in temp:\n",
    "        print(f\"{name[i]}:{name.count(name[i])}\")\n",
    "        temp=temp + name[i]"
   ]
  }
 ],
 "metadata": {
  "kernelspec": {
   "display_name": "Python 3",
   "language": "python",
   "name": "python3"
  },
  "language_info": {
   "codemirror_mode": {
    "name": "ipython",
    "version": 3
   },
   "file_extension": ".py",
   "mimetype": "text/x-python",
   "name": "python",
   "nbconvert_exporter": "python",
   "pygments_lexer": "ipython3",
   "version": "3.8.5"
  }
 },
 "nbformat": 4,
 "nbformat_minor": 4
}
