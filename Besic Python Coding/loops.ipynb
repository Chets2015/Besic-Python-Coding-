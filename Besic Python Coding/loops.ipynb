{
 "cells": [
  {
   "cell_type": "markdown",
   "metadata": {},
   "source": [
    "# loops"
   ]
  },
  {
   "cell_type": "code",
   "execution_count": null,
   "metadata": {},
   "outputs": [],
   "source": [
    "#while , for "
   ]
  },
  {
   "cell_type": "code",
   "execution_count": 9,
   "metadata": {},
   "outputs": [
    {
     "name": "stdout",
     "output_type": "stream",
     "text": [
      "Welcome in GCOEA:0\n",
      "Welcome in GCOEA:1\n",
      "Welcome in GCOEA:2\n",
      "Welcome in GCOEA:3\n"
     ]
    }
   ],
   "source": [
    "# for loop with range function\n",
    "for i in range(4):\n",
    "    print(f\"Welcome in GCOEA:{i}\")"
   ]
  },
  {
   "cell_type": "code",
   "execution_count": 11,
   "metadata": {},
   "outputs": [
    {
     "name": "stdout",
     "output_type": "stream",
     "text": [
      "welcome in AMravati:1\n",
      "welcome in AMravati:2\n",
      "welcome in AMravati:3\n",
      "welcome in AMravati:4\n"
     ]
    }
   ],
   "source": [
    "for i in range(1,5):\n",
    "    print(f\"welcome in AMravati:{i}\")"
   ]
  },
  {
   "cell_type": "code",
   "execution_count": 13,
   "metadata": {},
   "outputs": [
    {
     "name": "stdout",
     "output_type": "stream",
     "text": [
      "55\n"
     ]
    }
   ],
   "source": [
    "# addtion of 1 to 10\n",
    "total=0\n",
    "for i in range(1,11):\n",
    "    total=total+i\n",
    "print(total)"
   ]
  },
  {
   "cell_type": "code",
   "execution_count": 18,
   "metadata": {},
   "outputs": [
    {
     "name": "stdout",
     "output_type": "stream",
     "text": [
      "enter the number789\n",
      "311655\n"
     ]
    }
   ],
   "source": [
    "# n natural no.\n",
    "n= int(input (\"enter the number\"))\n",
    "total=0\n",
    "for i in range(1,n+1):\n",
    "    total+=i\n",
    "print(total)\n",
    "\n",
    "\n"
   ]
  },
  {
   "cell_type": "markdown",
   "metadata": {},
   "source": [
    "# Advance Number Guessing Game "
   ]
  },
  {
   "cell_type": "code",
   "execution_count": null,
   "metadata": {},
   "outputs": [],
   "source": [
    "winning_no= 44\n",
    "guess=1\n",
    "n=int(input('Guess No.Between 1 to 100'))\n",
    "game_over= False\n",
    "while not game_over:\n",
    "    if n == winning_no:\n",
    "        print(\"You Win!.........\")\n",
    "        game_over=True   \n",
    "    else:\n",
    "        if n<winning_no:\n",
    "            print(\"Too small\")       \n",
    "        else:\n",
    "            print(\"to large \")\n",
    "        guess=guess+1\n",
    "        n=int(input(\"guess No. again\"))"
   ]
  },
  {
   "cell_type": "code",
   "execution_count": null,
   "metadata": {},
   "outputs": [],
   "source": []
  },
  {
   "cell_type": "code",
   "execution_count": null,
   "metadata": {},
   "outputs": [],
   "source": []
  },
  {
   "cell_type": "code",
   "execution_count": null,
   "metadata": {},
   "outputs": [],
   "source": []
  },
  {
   "cell_type": "code",
   "execution_count": null,
   "metadata": {},
   "outputs": [],
   "source": []
  },
  {
   "cell_type": "code",
   "execution_count": null,
   "metadata": {},
   "outputs": [],
   "source": []
  }
 ],
 "metadata": {
  "kernelspec": {
   "display_name": "Python 3",
   "language": "python",
   "name": "python3"
  },
  "language_info": {
   "codemirror_mode": {
    "name": "ipython",
    "version": 3
   },
   "file_extension": ".py",
   "mimetype": "text/x-python",
   "name": "python",
   "nbconvert_exporter": "python",
   "pygments_lexer": "ipython3",
   "version": "3.8.5"
  }
 },
 "nbformat": 4,
 "nbformat_minor": 4
}
