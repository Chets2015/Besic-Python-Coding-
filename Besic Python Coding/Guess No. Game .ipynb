{
 "cells": [
  {
   "cell_type": "code",
   "execution_count": 4,
   "metadata": {},
   "outputs": [],
   "source": [
    "import random "
   ]
  },
  {
   "cell_type": "code",
   "execution_count": 5,
   "metadata": {},
   "outputs": [
    {
     "name": "stdout",
     "output_type": "stream",
     "text": [
      "Guess No.Between 1 to 10050\n",
      "to large \n",
      "guess No. again40\n",
      "to large \n",
      "guess No. again30\n",
      "to large \n",
      "guess No. again20\n",
      "to large \n",
      "guess No. again10\n",
      "Too small\n",
      "guess No. again15\n",
      "Too small\n",
      "guess No. again18\n",
      "to large \n",
      "guess No. again17\n",
      "You Win!......... and you guess this no. 8 times\n"
     ]
    }
   ],
   "source": [
    "winning_no= random.randint(1,100)\n",
    "guess=1\n",
    "n=int(input('Guess No.Between 1 to 100'))\n",
    "game_over= False\n",
    "while not game_over:\n",
    "    if n == winning_no:\n",
    "        print(f\"You Win!......... and you guess this no. {guess} times\")\n",
    "        game_over=True   \n",
    "    else:\n",
    "        if n<winning_no:\n",
    "            print(\"Too small\")       \n",
    "        else:\n",
    "            print(\"to large \")\n",
    "        guess=guess+1\n",
    "        n=int(input(\"guess No. again\"))"
   ]
  }
 ],
 "metadata": {
  "kernelspec": {
   "display_name": "Python 3",
   "language": "python",
   "name": "python3"
  },
  "language_info": {
   "codemirror_mode": {
    "name": "ipython",
    "version": 3
   },
   "file_extension": ".py",
   "mimetype": "text/x-python",
   "name": "python",
   "nbconvert_exporter": "python",
   "pygments_lexer": "ipython3",
   "version": "3.8.5"
  }
 },
 "nbformat": 4,
 "nbformat_minor": 4
}
